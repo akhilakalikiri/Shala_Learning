{
  "cells": [
    {
      "cell_type": "markdown",
      "metadata": {
        "id": "view-in-github",
        "colab_type": "text"
      },
      "source": [
        "<a href=\"https://colab.research.google.com/github/akhilakalikiri/Shala_learning/blob/main/module1_DataScience/numpy.ipynb\" target=\"_parent\"><img src=\"https://colab.research.google.com/assets/colab-badge.svg\" alt=\"Open In Colab\"/></a>"
      ]
    },
    {
      "cell_type": "code",
      "execution_count": null,
      "id": "b9b1f60f",
      "metadata": {
        "id": "b9b1f60f"
      },
      "outputs": [],
      "source": [
        "#importing libraries\n",
        "\n",
        "import numpy as np\n",
        "import pandas as pd"
      ]
    },
    {
      "cell_type": "code",
      "execution_count": null,
      "id": "500224fa",
      "metadata": {
        "id": "500224fa"
      },
      "outputs": [],
      "source": [
        "# numpy array declaration\n",
        "\n",
        "arr1=np.array([1,2,3])\n",
        "arr2=np.array([[1,2,3],[4,5,6]])\n",
        "arr3=np.array([[[1,2],[3,4]],[[5,6],[7,8]]])"
      ]
    },
    {
      "cell_type": "code",
      "execution_count": null,
      "id": "bc7431c4",
      "metadata": {
        "id": "bc7431c4",
        "outputId": "c57c02d3-7c7c-4a9a-9d05-3aa27394932b"
      },
      "outputs": [
        {
          "name": "stdout",
          "output_type": "stream",
          "text": [
            "<class 'numpy.ndarray'>\n",
            "int32\n",
            "[1. 2. 3.]\n",
            "<class 'numpy.ndarray'>\n",
            "float32\n"
          ]
        }
      ],
      "source": [
        "#type\n",
        "\n",
        "print(type(arr1))\n",
        "\n",
        "#dtype\n",
        "\n",
        "print(arr1.dtype)\n",
        "\n",
        "#astype\n",
        "\n",
        "arr11=arr1.astype('f')\n",
        "print(arr11)\n",
        "print(type(arr11))\n",
        "print(arr11.dtype)\n"
      ]
    },
    {
      "cell_type": "code",
      "execution_count": null,
      "id": "d88c43e8",
      "metadata": {
        "id": "d88c43e8",
        "outputId": "fa3523c6-b760-4960-b4e7-cd80beebe209"
      },
      "outputs": [
        {
          "name": "stdout",
          "output_type": "stream",
          "text": [
            "1\n",
            "2\n",
            "3\n",
            "2\n"
          ]
        }
      ],
      "source": [
        "#dimension\n",
        "\n",
        "print(arr1.ndim)\n",
        "print(arr2.ndim)\n",
        "print(arr3.ndim)\n",
        "\n",
        "#changing dimension\n",
        "\n",
        "arr12=np.array([1,2,3],ndmin=2)\n",
        "print(arr12.ndim)"
      ]
    },
    {
      "cell_type": "code",
      "execution_count": null,
      "id": "6942cf77",
      "metadata": {
        "id": "6942cf77",
        "outputId": "2bc768ae-cac1-461c-e5c3-087790668f48"
      },
      "outputs": [
        {
          "name": "stdout",
          "output_type": "stream",
          "text": [
            "[1 2 3]\n",
            "[1 2 3]\n",
            "[1 2 3]\n",
            "[5 2 3]\n"
          ]
        }
      ],
      "source": [
        "#array copy and view\n",
        "\n",
        "arrcopy=arr1.copy()\n",
        "arrview=arr1.view()\n",
        "print(arrcopy)\n",
        "print(arrview)\n",
        "arr1[0]=5\n",
        "print(arrcopy)\n",
        "print(arrview)"
      ]
    },
    {
      "cell_type": "code",
      "execution_count": null,
      "id": "8199d235",
      "metadata": {
        "id": "8199d235",
        "outputId": "26264bf2-6e2c-45f5-de78-5afbce2bac25"
      },
      "outputs": [
        {
          "name": "stdout",
          "output_type": "stream",
          "text": [
            "None\n",
            "[5 2 3]\n"
          ]
        }
      ],
      "source": [
        "#owning the data\n",
        "#returns none if array owns the data\n",
        "\n",
        "print(arrcopy.base)\n",
        "print(arrview.base)"
      ]
    },
    {
      "cell_type": "code",
      "execution_count": null,
      "id": "72429a50",
      "metadata": {
        "id": "72429a50",
        "outputId": "d21b137c-2726-4e9a-c9b3-b47aced9fedb"
      },
      "outputs": [
        {
          "name": "stdout",
          "output_type": "stream",
          "text": [
            "(3,)\n",
            "(2, 3)\n",
            "(2, 2, 2)\n",
            "3\n",
            "[[1 2]\n",
            " [3 4]\n",
            " [5 6]]\n",
            "[1 2 3 4 5 6 7 8]\n",
            "[1 2 3 4 5 6 7 8]\n"
          ]
        }
      ],
      "source": [
        "#array shapes\n",
        "\n",
        "print(arr1.shape)\n",
        "print(arr2.shape)\n",
        "print(arr3.shape)\n",
        "\n",
        "print(arr1.size)\n",
        "#reshaping arrays\n",
        "\n",
        "print(arr2.reshape(3,2))\n",
        "\n",
        "#changing array into one dimensional array(flattening)\n",
        "\n",
        "print(arr3.flatten())\n",
        "print(arr3.reshape(-1))"
      ]
    },
    {
      "cell_type": "code",
      "execution_count": null,
      "id": "b3a87f45",
      "metadata": {
        "id": "b3a87f45",
        "outputId": "3cb4a822-f8df-4538-fc2a-41708f62750e"
      },
      "outputs": [
        {
          "name": "stdout",
          "output_type": "stream",
          "text": [
            "5\n",
            "2\n",
            "3\n",
            "[1 2 3]\n",
            "[4 5 6]\n",
            "1\n",
            "2\n",
            "3\n",
            "4\n",
            "5\n",
            "6\n",
            "1\n",
            "2\n",
            "3\n",
            "4\n",
            "5\n",
            "6\n",
            "7\n",
            "8\n"
          ]
        }
      ],
      "source": [
        "#iterating arrays\n",
        "\n",
        "for i in arr1:\n",
        "    print(i)\n",
        "\n",
        "\n",
        "for i in arr2:\n",
        "    print(i)\n",
        "\n",
        "\n",
        "for i in arr2:\n",
        "    for j in i:\n",
        "        print(j)\n",
        "\n",
        "#nditer\n",
        "\n",
        "for i in np.nditer(arr3):\n",
        "    print(i)"
      ]
    },
    {
      "cell_type": "code",
      "execution_count": null,
      "id": "5ae8c691",
      "metadata": {
        "id": "5ae8c691",
        "outputId": "fd5fffe4-bf64-4c94-b478-90de8bb1b527"
      },
      "outputs": [
        {
          "name": "stdout",
          "output_type": "stream",
          "text": [
            "(0, 0, 0) 1\n",
            "(0, 0, 1) 2\n",
            "(0, 1, 0) 3\n",
            "(0, 1, 1) 4\n",
            "(1, 0, 0) 5\n",
            "(1, 0, 1) 6\n",
            "(1, 1, 0) 7\n",
            "(1, 1, 1) 8\n"
          ]
        }
      ],
      "source": [
        "#denumerate-tells about the positions\n",
        "\n",
        "\n",
        "for idx,i in np.ndenumerate(arr3):\n",
        "    print(idx,i)"
      ]
    },
    {
      "cell_type": "code",
      "execution_count": null,
      "id": "0ee12a0d",
      "metadata": {
        "id": "0ee12a0d",
        "outputId": "9711098d-51ce-4621-eadf-ef815c7a483f"
      },
      "outputs": [
        {
          "name": "stdout",
          "output_type": "stream",
          "text": [
            "[[1 2]\n",
            " [3 4]\n",
            " [6 7]\n",
            " [8 9]]\n",
            "[[1 2 6 7]\n",
            " [3 4 8 9]]\n",
            "[[1 2 6 7]\n",
            " [3 4 8 9]]\n",
            "[[1 2]\n",
            " [3 4]\n",
            " [6 7]\n",
            " [8 9]]\n",
            "[[[1 6]\n",
            "  [2 7]]\n",
            "\n",
            " [[3 8]\n",
            "  [4 9]]]\n"
          ]
        }
      ],
      "source": [
        "#stacking\n",
        "#concatenate\n",
        "\n",
        "a1=np.array([[1,2],[3,4]])\n",
        "a2=np.array([[6,7],[8,9]])\n",
        "print(np.concatenate((a1,a2),axis=0))\n",
        "print(np.concatenate((a1,a2),axis=1))\n",
        "\n",
        "#hstack\n",
        "print(np.hstack((a1,a2)))\n",
        "\n",
        "\n",
        "#vstack\n",
        "print(np.vstack((a1,a2)))\n",
        "\n",
        "\n",
        "#dstack\n",
        "print(np.dstack((a1,a2)))\n",
        "\n",
        "\n"
      ]
    },
    {
      "cell_type": "code",
      "execution_count": null,
      "id": "8c678f33",
      "metadata": {
        "id": "8c678f33",
        "outputId": "93a10f04-3b06-43e9-dd3d-ab219efb6929"
      },
      "outputs": [
        {
          "name": "stdout",
          "output_type": "stream",
          "text": [
            "[array([5]), array([2]), array([3]), array([], dtype=int32)]\n",
            "[array([[1, 2, 3]]), array([[4, 5, 6]])]\n",
            "[array([[[1, 2],\n",
            "        [3, 4]]]), array([[[5, 6],\n",
            "        [7, 8]]])]\n"
          ]
        }
      ],
      "source": [
        "#spliting arrays\n",
        "\n",
        "print(np.array_split(arr1,4))\n",
        "print(np.array_split(arr2,2))\n",
        "print(np.array_split(arr3,2))"
      ]
    },
    {
      "cell_type": "code",
      "execution_count": null,
      "id": "68c22481",
      "metadata": {
        "id": "68c22481",
        "outputId": "7e42cff1-a1bb-4f8c-9f2e-f90ff723019e"
      },
      "outputs": [
        {
          "name": "stdout",
          "output_type": "stream",
          "text": [
            "(array([0], dtype=int64),)\n",
            "3\n",
            "3\n"
          ]
        }
      ],
      "source": [
        "#searching arrays\n",
        "\n",
        "print(np.where(arr1==5))\n",
        "print(np.searchsorted(arr1,7))\n",
        "print(np.searchsorted(arr1,7,side=\"Left\"))"
      ]
    },
    {
      "cell_type": "code",
      "execution_count": null,
      "id": "fd31cc32",
      "metadata": {
        "id": "fd31cc32",
        "outputId": "311fdd82-e6ef-42f0-8dd1-12ef5662ff8d"
      },
      "outputs": [
        {
          "name": "stdout",
          "output_type": "stream",
          "text": [
            "[2 3 5]\n",
            "[[1 2 3]\n",
            " [4 5 6]]\n",
            "[[1 2 3]\n",
            " [4 5 6]]\n",
            "[[1 2 5]\n",
            " [1 2 5]]\n"
          ]
        }
      ],
      "source": [
        "#sorting array\n",
        "\n",
        "print(np.sort(arr1))\n",
        "print(np.sort(arr2,axis=0))\n",
        "print(np.sort(arr2,axis=1))\n",
        "\n",
        "arr22=[[1,5,2],[2,1,5]]\n",
        "print(np.sort(arr22))"
      ]
    },
    {
      "cell_type": "code",
      "execution_count": null,
      "id": "6e971793",
      "metadata": {
        "id": "6e971793",
        "outputId": "bdf680da-0b5f-49d7-fd4b-dcbfc8a5cf30"
      },
      "outputs": [
        {
          "name": "stdout",
          "output_type": "stream",
          "text": [
            "[ 1  3  5  7  9 11 13 15 17 19]\n"
          ]
        }
      ],
      "source": [
        "#printing range of numbers___staring,ending,step\n",
        "\n",
        "range1=np.arange(1,20,2)\n",
        "print(range1)"
      ]
    },
    {
      "cell_type": "code",
      "execution_count": null,
      "id": "26f30032",
      "metadata": {
        "id": "26f30032",
        "outputId": "e98ade92-31c0-4728-817a-607f5139f82f"
      },
      "outputs": [
        {
          "name": "stdout",
          "output_type": "stream",
          "text": [
            "[ 1.          1.31034483  1.62068966  1.93103448  2.24137931  2.55172414\n",
            "  2.86206897  3.17241379  3.48275862  3.79310345  4.10344828  4.4137931\n",
            "  4.72413793  5.03448276  5.34482759  5.65517241  5.96551724  6.27586207\n",
            "  6.5862069   6.89655172  7.20689655  7.51724138  7.82758621  8.13793103\n",
            "  8.44827586  8.75862069  9.06896552  9.37931034  9.68965517 10.        ]\n"
          ]
        }
      ],
      "source": [
        "#dividing the number\n",
        "\n",
        "range2=np.linspace(1,10,30)\n",
        "print(range2)"
      ]
    },
    {
      "cell_type": "code",
      "execution_count": null,
      "id": "ca7c5199",
      "metadata": {
        "id": "ca7c5199",
        "outputId": "ecf25c8c-ca3d-4450-95d8-42fa6221b590"
      },
      "outputs": [
        {
          "name": "stdout",
          "output_type": "stream",
          "text": [
            "[0.21166922 0.08864658 0.04157089 0.17798535 0.73667364 0.79951653\n",
            " 0.54702816 0.55557637 0.60519459 0.39583557]\n",
            "[17 18 13 10]\n",
            "[[0.3220733  0.60827375]]\n"
          ]
        }
      ],
      "source": [
        "#random numbers genearation\n",
        "\n",
        "rand=np.random.rand(10)\n",
        "print(rand)\n",
        "ran=np.random.randint(10,20,4)\n",
        "print(ran)\n",
        "rand1=np.random.rand(1,2)\n",
        "print(rand1)"
      ]
    },
    {
      "cell_type": "code",
      "execution_count": null,
      "id": "31e025d0",
      "metadata": {
        "id": "31e025d0",
        "outputId": "5e2cf256-8893-47d2-84c9-43e8edc04cf7"
      },
      "outputs": [
        {
          "name": "stdout",
          "output_type": "stream",
          "text": [
            "[0. 0. 0. 0. 0. 0. 0. 0. 0. 0.]\n",
            "[[0. 0. 0.]\n",
            " [0. 0. 0.]]\n",
            "[1. 1. 1. 1. 1. 1. 1. 1. 1. 1.]\n",
            "[[[1. 1. 1.]\n",
            "  [1. 1. 1.]\n",
            "  [1. 1. 1.]\n",
            "  [1. 1. 1.]\n",
            "  [1. 1. 1.]\n",
            "  [1. 1. 1.]\n",
            "  [1. 1. 1.]\n",
            "  [1. 1. 1.]\n",
            "  [1. 1. 1.]\n",
            "  [1. 1. 1.]]\n",
            "\n",
            " [[1. 1. 1.]\n",
            "  [1. 1. 1.]\n",
            "  [1. 1. 1.]\n",
            "  [1. 1. 1.]\n",
            "  [1. 1. 1.]\n",
            "  [1. 1. 1.]\n",
            "  [1. 1. 1.]\n",
            "  [1. 1. 1.]\n",
            "  [1. 1. 1.]\n",
            "  [1. 1. 1.]]\n",
            "\n",
            " [[1. 1. 1.]\n",
            "  [1. 1. 1.]\n",
            "  [1. 1. 1.]\n",
            "  [1. 1. 1.]\n",
            "  [1. 1. 1.]\n",
            "  [1. 1. 1.]\n",
            "  [1. 1. 1.]\n",
            "  [1. 1. 1.]\n",
            "  [1. 1. 1.]\n",
            "  [1. 1. 1.]]\n",
            "\n",
            " [[1. 1. 1.]\n",
            "  [1. 1. 1.]\n",
            "  [1. 1. 1.]\n",
            "  [1. 1. 1.]\n",
            "  [1. 1. 1.]\n",
            "  [1. 1. 1.]\n",
            "  [1. 1. 1.]\n",
            "  [1. 1. 1.]\n",
            "  [1. 1. 1.]\n",
            "  [1. 1. 1.]]\n",
            "\n",
            " [[1. 1. 1.]\n",
            "  [1. 1. 1.]\n",
            "  [1. 1. 1.]\n",
            "  [1. 1. 1.]\n",
            "  [1. 1. 1.]\n",
            "  [1. 1. 1.]\n",
            "  [1. 1. 1.]\n",
            "  [1. 1. 1.]\n",
            "  [1. 1. 1.]\n",
            "  [1. 1. 1.]]\n",
            "\n",
            " [[1. 1. 1.]\n",
            "  [1. 1. 1.]\n",
            "  [1. 1. 1.]\n",
            "  [1. 1. 1.]\n",
            "  [1. 1. 1.]\n",
            "  [1. 1. 1.]\n",
            "  [1. 1. 1.]\n",
            "  [1. 1. 1.]\n",
            "  [1. 1. 1.]\n",
            "  [1. 1. 1.]]\n",
            "\n",
            " [[1. 1. 1.]\n",
            "  [1. 1. 1.]\n",
            "  [1. 1. 1.]\n",
            "  [1. 1. 1.]\n",
            "  [1. 1. 1.]\n",
            "  [1. 1. 1.]\n",
            "  [1. 1. 1.]\n",
            "  [1. 1. 1.]\n",
            "  [1. 1. 1.]\n",
            "  [1. 1. 1.]]\n",
            "\n",
            " [[1. 1. 1.]\n",
            "  [1. 1. 1.]\n",
            "  [1. 1. 1.]\n",
            "  [1. 1. 1.]\n",
            "  [1. 1. 1.]\n",
            "  [1. 1. 1.]\n",
            "  [1. 1. 1.]\n",
            "  [1. 1. 1.]\n",
            "  [1. 1. 1.]\n",
            "  [1. 1. 1.]]\n",
            "\n",
            " [[1. 1. 1.]\n",
            "  [1. 1. 1.]\n",
            "  [1. 1. 1.]\n",
            "  [1. 1. 1.]\n",
            "  [1. 1. 1.]\n",
            "  [1. 1. 1.]\n",
            "  [1. 1. 1.]\n",
            "  [1. 1. 1.]\n",
            "  [1. 1. 1.]\n",
            "  [1. 1. 1.]]\n",
            "\n",
            " [[1. 1. 1.]\n",
            "  [1. 1. 1.]\n",
            "  [1. 1. 1.]\n",
            "  [1. 1. 1.]\n",
            "  [1. 1. 1.]\n",
            "  [1. 1. 1.]\n",
            "  [1. 1. 1.]\n",
            "  [1. 1. 1.]\n",
            "  [1. 1. 1.]\n",
            "  [1. 1. 1.]]]\n"
          ]
        }
      ],
      "source": [
        "#printing zeros and ones\n",
        "\n",
        "print(np.zeros(10))\n",
        "print(np.zeros((2,3)))\n",
        "\n",
        "print(np.ones(10))\n",
        "print(np.ones((10,10,3)))"
      ]
    },
    {
      "cell_type": "code",
      "execution_count": null,
      "id": "ce217753",
      "metadata": {
        "id": "ce217753",
        "outputId": "07de97ac-e621-493b-fce9-72b203dffde5"
      },
      "outputs": [
        {
          "name": "stdout",
          "output_type": "stream",
          "text": [
            "[5 5 5 2 2 2 3 3 3]\n",
            "[5 2 3 5 2 3 5 2 3]\n"
          ]
        }
      ],
      "source": [
        "#repeating arrays\n",
        "\n",
        "print(np.repeat(arr1,3))\n",
        "print(np.tile(arr1,3))"
      ]
    },
    {
      "cell_type": "code",
      "execution_count": null,
      "id": "f0154e98",
      "metadata": {
        "id": "f0154e98",
        "outputId": "e87f9d94-b232-46cd-ee7e-434b8f090e34"
      },
      "outputs": [
        {
          "name": "stdout",
          "output_type": "stream",
          "text": [
            "[[1. 0. 0.]\n",
            " [0. 1. 0.]\n",
            " [0. 0. 1.]]\n",
            "[[1. 0. 0. 0. 0.]\n",
            " [0. 1. 0. 0. 0.]\n",
            " [0. 0. 1. 0. 0.]\n",
            " [0. 0. 0. 1. 0.]\n",
            " [0. 0. 0. 0. 1.]]\n",
            "[[1. 0. 0. 0.]\n",
            " [0. 1. 0. 0.]\n",
            " [0. 0. 1. 0.]\n",
            " [0. 0. 0. 1.]]\n",
            "[[1 0 0]\n",
            " [0 2 0]\n",
            " [0 0 3]]\n"
          ]
        }
      ],
      "source": [
        "#identity array\n",
        "\n",
        "print(np.eye(3))\n",
        "print(np.eye(5))\n",
        "print(np.eye(4))\n",
        "\n",
        "print(np.diag([1,2,3]))"
      ]
    },
    {
      "cell_type": "code",
      "execution_count": null,
      "id": "f44e7fc4",
      "metadata": {
        "id": "f44e7fc4",
        "outputId": "cc202896-47cb-47b2-9860-6d527f127751"
      },
      "outputs": [
        {
          "name": "stdout",
          "output_type": "stream",
          "text": [
            "[[0.93923559 0.06288331 0.99013429 0.0864703  0.5425907 ]\n",
            " [0.37553564 0.38217833 0.35866056 0.26467807 0.87465779]\n",
            " [0.78159347 0.9810109  0.01322772 0.21815467 0.43312386]\n",
            " [0.92281783 0.26156641 0.82303588 0.06600678 0.71618838]\n",
            " [0.55105873 0.69353028 0.84540424 0.6499385  0.15768995]] \n",
            "\n",
            "[0.93923559 0.38217833 0.01322772 0.06600678 0.15768995]\n"
          ]
        }
      ],
      "source": [
        "#printing daigonal elements\n",
        "\n",
        "ray=np.random.rand(5,5)\n",
        "print(ray,'\\n')\n",
        "\n",
        "print(np.diag(ray))"
      ]
    },
    {
      "cell_type": "code",
      "execution_count": null,
      "id": "a7430da9",
      "metadata": {
        "id": "a7430da9",
        "outputId": "b301f664-51eb-4af2-ba68-2a8f7141a173"
      },
      "outputs": [
        {
          "name": "stdout",
          "output_type": "stream",
          "text": [
            "[15 12 13]\n",
            "[2.5 1.  1.5]\n",
            "[148.4131591    7.3890561   20.08553692]\n",
            "[2.32192809 1.         1.5849625 ]\n",
            "[-0.95892427  0.90929743  0.14112001]\n",
            "5\n"
          ]
        }
      ],
      "source": [
        "#opearations on numbers\n",
        "\n",
        "print(arr1+10)\n",
        "print(arr1/2)\n",
        "print(np.exp(arr1))\n",
        "print(np.log2(arr1))\n",
        "print(np.sin(arr1))\n",
        "print(np.max(arr1))"
      ]
    },
    {
      "cell_type": "code",
      "execution_count": null,
      "id": "461ea763",
      "metadata": {
        "id": "461ea763",
        "outputId": "44e65d82-7816-4618-f356-786ffad60696"
      },
      "outputs": [
        {
          "name": "stdout",
          "output_type": "stream",
          "text": [
            "10\n",
            "[ 6 15]\n",
            "[5 7 9]\n",
            "[4 5 6]\n",
            "[3 6]\n"
          ]
        }
      ],
      "source": [
        "#sum of the values in a array and min\n",
        "\n",
        "print(np.sum(arr1))\n",
        "\n",
        "#sum of values in rows\n",
        "print(np.sum(arr2,axis=1))#rows\n",
        "print(np.sum(arr2,axis=0))#columns\n",
        "\n",
        "print(np.max(arr2,axis=0))\n",
        "print(np.max(arr2,axis=1))"
      ]
    },
    {
      "cell_type": "code",
      "execution_count": null,
      "id": "b2983abc",
      "metadata": {
        "id": "b2983abc",
        "outputId": "80f725e0-3460-4544-90a3-c232ba3f2d13"
      },
      "outputs": [
        {
          "name": "stdout",
          "output_type": "stream",
          "text": [
            "3.3333333333333335\n",
            "[2.5 3.5 4.5]\n",
            "[2. 5.]\n",
            "3.0\n",
            "[[3. 4.]\n",
            " [5. 6.]]\n",
            "[[2. 3.]\n",
            " [6. 7.]]\n",
            "1.247219128924647\n",
            "1.5555555555555556\n"
          ]
        }
      ],
      "source": [
        "#some data analytics functions\n",
        "\n",
        "\n",
        "print(np.mean(arr1))\n",
        "print(np.mean(arr2,axis=0))\n",
        "print(np.mean(arr2,axis=1))\n",
        "\n",
        "print(np.median(arr1))\n",
        "print(np.median(arr3,axis=0))\n",
        "print(np.median(arr3,axis=1))\n",
        "\n",
        "#stranderd deviation\n",
        "\n",
        "print(np.std(arr1))\n",
        "print(np.var(arr1))"
      ]
    },
    {
      "cell_type": "code",
      "execution_count": null,
      "id": "bab708f3",
      "metadata": {
        "id": "bab708f3",
        "outputId": "fa12821f-b512-43f8-ba4f-8b8cc2f5e8cf"
      },
      "outputs": [
        {
          "name": "stdout",
          "output_type": "stream",
          "text": [
            "[[1 0 0]\n",
            " [0 2 0]\n",
            " [0 0 3]]\n",
            "[[1 0 0]\n",
            " [0 2 0]\n",
            " [0 0 3]]\n"
          ]
        }
      ],
      "source": [
        "x=np.diag([1,2,3])\n",
        "\n",
        "#transpose\n",
        "\n",
        "print(x)\n",
        "print(x.T)"
      ]
    },
    {
      "cell_type": "code",
      "execution_count": null,
      "id": "15aadeb3",
      "metadata": {
        "id": "15aadeb3",
        "outputId": "af56bfac-5da0-4f3f-defe-e60c27381eaf"
      },
      "outputs": [
        {
          "name": "stdout",
          "output_type": "stream",
          "text": [
            "[[1 2 3]\n",
            " [4 5 6]]\n",
            "[5 6]\n"
          ]
        }
      ],
      "source": [
        "print(arr2)\n",
        "print(arr2[1,1:])"
      ]
    },
    {
      "cell_type": "code",
      "execution_count": null,
      "id": "b6541f25",
      "metadata": {
        "id": "b6541f25",
        "outputId": "4c953090-9b53-46c4-eb78-e662b7e43ecd"
      },
      "outputs": [
        {
          "name": "stdout",
          "output_type": "stream",
          "text": [
            "[5 2 3]\n",
            "[5 2 3 4]\n",
            "[1 2 3 5 2 3]\n",
            "[2 3]\n",
            "[3]\n"
          ]
        }
      ],
      "source": [
        "#appending arrays\n",
        "\n",
        "print(arr1)\n",
        "arrc=np.append(arr1,4)\n",
        "print(arrc)\n",
        "arra=np.insert(arr1,0,[1,2,3])\n",
        "print(arra)\n",
        "arrd=np.delete(arr1,0)\n",
        "print(arrd)\n",
        "arre=np.delete(arr1,[0,1])\n",
        "print(arre)"
      ]
    },
    {
      "cell_type": "code",
      "execution_count": null,
      "id": "8d6d46be",
      "metadata": {
        "id": "8d6d46be",
        "outputId": "6b2ce96d-e0bb-497f-ea08-daa076e3ce64"
      },
      "outputs": [
        {
          "name": "stdout",
          "output_type": "stream",
          "text": [
            "[ 1  2  3  5 34]\n",
            "[ 1  2  3  5 34]\n",
            "[2 2 2 2 1]\n"
          ]
        }
      ],
      "source": [
        "#printing unique values\n",
        "\n",
        "arr1=[1,3,1,3,2,2,34,5,5]\n",
        "print(np.unique(arr1))\n",
        "unique,count=np.unique(arr1,return_counts=True)\n",
        "print(unique)\n",
        "print(count)\n"
      ]
    },
    {
      "cell_type": "code",
      "execution_count": null,
      "id": "65757298",
      "metadata": {
        "id": "65757298",
        "outputId": "df8ecf50-d79e-4633-ca43-dcccbed2f7d9"
      },
      "outputs": [
        {
          "name": "stdout",
          "output_type": "stream",
          "text": [
            "[ 1  2  3 24]\n",
            "[ 1  2  3  4  5  6  9 24]\n",
            "[6]\n",
            "[4 5 6 9]\n"
          ]
        }
      ],
      "source": [
        "#interssection.differnation\n",
        "\n",
        "arr1=np.array([1,3,2,1,24,6])\n",
        "arr2=np.array([5,3,2,1,4,24,3,9])\n",
        "print(np.intersect1d(arr1,arr2))\n",
        "print(np.union1d(arr1,arr2))\n",
        "print(np.setdiff1d(arr1,arr2))\n",
        "print(np.setxor1d(arr1,arr2))"
      ]
    },
    {
      "cell_type": "code",
      "execution_count": null,
      "id": "46d20b4a",
      "metadata": {
        "id": "46d20b4a"
      },
      "outputs": [],
      "source": [
        "import numpy as np\n",
        "\n",
        "# Create two arrays\n",
        "A = np.array([[1, 2], [3, 4]])\n",
        "B = np.array([[5, 6], [7, 8]])\n",
        "\n",
        "# Matrix multiplication\n",
        "C = np.matmul(A, B)\n",
        "print(\"Matrix Multiplication:\")\n",
        "print(C)\n",
        "print()\n",
        "\n",
        "# Matrix transpose\n",
        "D = np.transpose(A)\n",
        "print(\"Matrix Transpose:\")\n",
        "print(D)\n",
        "print()\n",
        "\n",
        "# Matrix determinant\n",
        "det_A = np.linalg.det(A)\n",
        "det_B = np.linalg.det(B)\n",
        "print(\"Determinant of A:\", det_A)\n",
        "print(\"Determinant of B:\", det_B)\n",
        "print()\n",
        "\n",
        "# Matrix inverse\n",
        "A_inv = np.linalg.inv(A)\n",
        "B_inv = np.linalg.inv(B)\n",
        "print(\"Inverse of A:\")\n",
        "print(A_inv)\n",
        "print(\"Inverse of B:\")\n",
        "print(B_inv)\n",
        "print()\n",
        "\n",
        "# Eigenvalues and eigenvectors\n",
        "eigenvalues_A, eigenvectors_A = np.linalg.eig(A)\n",
        "eigenvalues_B, eigenvectors_B = np.linalg.eig(B)\n",
        "print(\"Eigenvalues of A:\")\n",
        "print(eigenvalues_A)\n",
        "print(\"Eigenvectors of A:\")\n",
        "print(eigenvectors_A)\n",
        "print(\"Eigenvalues of B:\")\n",
        "print(eigenvalues_B)\n",
        "print(\"Eigenvectors of B:\")\n",
        "print(eigenvectors_B)\n"
      ]
    }
  ],
  "metadata": {
    "kernelspec": {
      "display_name": "Python 3 (ipykernel)",
      "language": "python",
      "name": "python3"
    },
    "language_info": {
      "codemirror_mode": {
        "name": "ipython",
        "version": 3
      },
      "file_extension": ".py",
      "mimetype": "text/x-python",
      "name": "python",
      "nbconvert_exporter": "python",
      "pygments_lexer": "ipython3",
      "version": "3.9.7"
    },
    "colab": {
      "provenance": [],
      "toc_visible": true,
      "include_colab_link": true
    }
  },
  "nbformat": 4,
  "nbformat_minor": 5
}